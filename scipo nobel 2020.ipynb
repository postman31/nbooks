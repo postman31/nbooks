{
 "cells": [
  {
   "cell_type": "code",
   "execution_count": 12,
   "metadata": {},
   "outputs": [],
   "source": [
    "import random\n",
    "\n",
    "random.seed(30)\n",
    "\n",
    "participants = [\n",
    "    'Artem Danchenko',\n",
    "    'Victoria Zabuzova',\n",
    "    'Ok Kozlova',\n",
    "    'Kateryna Yablochkova',\n",
    "    'Марина Французова',\n",
    "    'Kateryna Komlyk',\n",
    "    'Dmytro Bulakh'\n",
    "]\n",
    "\n",
    "sciences = [\n",
    "    'Physics',\n",
    "    'Chemistry',\n",
    "    'Physiology or Medicine',\n",
    "    'Economic Sciences'\n",
    "]\n"
   ]
  },
  {
   "cell_type": "code",
   "execution_count": 13,
   "metadata": {},
   "outputs": [
    {
     "name": "stdout",
     "output_type": "stream",
     "text": [
      "Artem Danchenko: 1999, Physiology or Medicine \n",
      "Victoria Zabuzova: 1999, Physics \n",
      "Ok Kozlova: 1994, Chemistry \n",
      "Kateryna Yablochkova: 1996, Physics \n",
      "Марина Французова: 2000, Economic Sciences \n",
      "Kateryna Komlyk: 1991, Chemistry \n",
      "Dmytro Bulakh: 1990, Economic Sciences \n"
     ]
    }
   ],
   "source": [
    "\n",
    "for participant in participants:\n",
    "    science = sciences[random.randrange(len(sciences))]\n",
    "    year = random.randrange(1990, 2001)\n",
    "    print (f\"{participant}: {year}, {science} \")"
   ]
  },
  {
   "cell_type": "code",
   "execution_count": null,
   "metadata": {},
   "outputs": [],
   "source": []
  }
 ],
 "metadata": {
  "kernelspec": {
   "display_name": "Python 3",
   "language": "python",
   "name": "python3"
  },
  "language_info": {
   "codemirror_mode": {
    "name": "ipython",
    "version": 3
   },
   "file_extension": ".py",
   "mimetype": "text/x-python",
   "name": "python",
   "nbconvert_exporter": "python",
   "pygments_lexer": "ipython3",
   "version": "3.8.2"
  }
 },
 "nbformat": 4,
 "nbformat_minor": 4
}
